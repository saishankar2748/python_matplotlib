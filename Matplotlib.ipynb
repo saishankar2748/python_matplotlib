{
 "cells": [
  {
   "cell_type": "markdown",
   "id": "4042e886",
   "metadata": {},
   "source": [
    "# <p style=\"color:blue\">Data Visualisation </p>\n",
    "-  In the process of data analysis we use data visualisation to explore the datasets and extract the insights\n",
    "-  Once insights are found visualisation is again used to share those precious insights with others"
   ]
  },
  {
   "cell_type": "markdown",
   "id": "5d6d537d",
   "metadata": {},
   "source": [
    "Types of data :\n",
    "1. <b>Facts</b>: also refered to measure\n",
    "    -  Quantitative in nature\n",
    "    -  can apply calculations and aggregate \n",
    "2. <b>Dimensions</b>: are the metadata - data explaining other data\n",
    "    -  Qualitative in nature\n",
    "    -  can used to categorize,segment and reveal the details of data "
   ]
  },
  {
   "cell_type": "markdown",
   "id": "72a03e7f",
   "metadata": {},
   "source": [
    "## Plots\n",
    "Depending on the objective of your visualisation task, we will choose an appropriate plot\n",
    "-  A <b>bar graph</b> is helpful when you have to visualise a numeric feature (fact) across multiple categories(dimensions).<br>\n",
    "    syntax -- >> plt.bar(x_component, y_component, color = 'orange',edgecolor = 'cyan')\n",
    "-  A <b>Scatterplot</b> , displays the scatter of the data. It can be helpful in checking for any relationship pattern between two quantitative variables and detecting the presence of outliers within them.<br>\n",
    "    -  syntax -->> plt.scatter(x_axis, y_axis, c = color, label = labels)\n",
    "    -  Matplotlib also offers a feature that incorporates a categorical distinction between the points plotted on a scatterplot by colour-coding the points based on the category and distinguish them from each other\n",
    "    -  Another feature of a scatterplot is that the points can be further distinguished over another dimension variable using labels by highlighting the points belonging to a particular element in a array<br> plt.annotate(text =\"\", xy = points_to_annotate_xy)\n",
    "-  A <b>line graph</b> is used to present continuous time-dependent data<br>Syntax -->> plt.plot(x_axis, y_axis)\n",
    "-  A <b>histogram</b> is a frequency chart that records the occurrence of an entry or an element in a data set<br>It is useful when you want to understand the distribution of a given series\n",
    "-  <b>Box plots</b> are effective in summarising the spread of large data into a visual representation. They take the help of percentiles to divide the data range.<br>Syntax -->>  plt.boxplot([list_1, list_2])\n",
    "    -  Box plots divide the data range into three important categories:\n",
    "\n",
    "        -  Median value: This is the value that divides the data range into two halves, that is, the 50th percentile.\n",
    "        -  Interquartile range (IQR): These are data points between the 25th and 75th percentile values.\n",
    "        -  Outliers: These are data points that differ significantly from other observations and lie beyond the whiskers.\n",
    "-  <b>Subplots</b>:Different plots presented in a single plot object are commonly referred to as subplots\n",
    "    -  Syntax -->> fig, ax = plt.subplots(): It initiates a figure which will be used to comprise multiple graphs in a single chart.<br> subplots function returns a tuple so we need to unpack\n",
    "-  A <b>Piechart</b> is like bargrph instead it is useful to compare less than 5 dimensions \n",
    "-  <b>Stackplots</b> are useful when plotting data over certain amount of time and breaking down the total contribution into individual contribution over that course of time"
   ]
  }
 ],
 "metadata": {
  "kernelspec": {
   "display_name": "Python 3 (ipykernel)",
   "language": "python",
   "name": "python3"
  },
  "language_info": {
   "codemirror_mode": {
    "name": "ipython",
    "version": 3
   },
   "file_extension": ".py",
   "mimetype": "text/x-python",
   "name": "python",
   "nbconvert_exporter": "python",
   "pygments_lexer": "ipython3",
   "version": "3.9.7"
  }
 },
 "nbformat": 4,
 "nbformat_minor": 5
}

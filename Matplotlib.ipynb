{
 "cells": [
  {
   "cell_type": "markdown",
   "id": "4042e886",
   "metadata": {},
   "source": [
    "# <p style=\"color:blue\">Data Visualisation </p>\n",
    "-  In the process of data analysis we use data visualisation to explore the datasets and extract the insights\n",
    "-  Once insights are found visualisation is again used to share those precious insights with others"
   ]
  },
  {
   "cell_type": "markdown",
   "id": "5d6d537d",
   "metadata": {},
   "source": [
    "Types of data :\n",
    "1. <b>Facts</b>: also refered to measure\n",
    "    -  Quantitative in nature\n",
    "    -  can apply calculations and aggregate \n",
    "2. <b>Dimensions</b>: are the metadata - data explaining other data\n",
    "    -  Qualitative in nature\n",
    "    -  can used to categorize,segment and reveal the details of data "
   ]
  },
  {
   "cell_type": "markdown",
   "id": "72a03e7f",
   "metadata": {},
   "source": [
    "## Plots\n",
    "Depending on the objective of your visualisation task, we will choose an appropriate plot\n",
    "-  A <b>bar graph</b> is helpful when you have to visualise a numeric feature (fact) across multiple categories(dimensions)."
   ]
  }
 ],
 "metadata": {
  "kernelspec": {
   "display_name": "Python 3 (ipykernel)",
   "language": "python",
   "name": "python3"
  },
  "language_info": {
   "codemirror_mode": {
    "name": "ipython",
    "version": 3
   },
   "file_extension": ".py",
   "mimetype": "text/x-python",
   "name": "python",
   "nbconvert_exporter": "python",
   "pygments_lexer": "ipython3",
   "version": "3.9.7"
  }
 },
 "nbformat": 4,
 "nbformat_minor": 5
}
